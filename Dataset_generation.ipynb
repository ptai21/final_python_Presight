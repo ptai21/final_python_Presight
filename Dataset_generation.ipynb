{
 "cells": [
  {
   "cell_type": "code",
   "execution_count": 1,
   "metadata": {},
   "outputs": [],
   "source": [
    "import os\n",
    "import getpass\n",
    "import json\n",
    "from langchain_openai import OpenAI\n",
    "from langchain.schema import HumanMessage\n",
    "from langchain_openai import ChatOpenAI\n",
    "import re\n",
    "\n",
    "os.environ[\"OPENAI_API_KEY\"] = getpass.getpass()"
   ]
  },
  {
   "cell_type": "code",
   "execution_count": 2,
   "metadata": {},
   "outputs": [],
   "source": [
    "from langchain.prompts import PromptTemplate\n",
    "\n",
    "single_translation_prompt = PromptTemplate(\n",
    "    input_variables=[\"text\", \"dest_language\"],\n",
    "    template=\"\"\"\n",
    "You are an expert translator. Your task is to translate a given sentence into the specified target language. \n",
    "\n",
    "### Instructions:\n",
    "1. If the input sentence is already in the destination language, return it as is.\n",
    "2. Otherwise, accurately translate the sentence into the destination language.\n",
    "\n",
    "### Input:\n",
    "- Text: {text}\n",
    "- Target Language: {dest_language}\n",
    "\n",
    "### Output:\n",
    "\"Translated Sentence or Original Text if already in the target language.\"\n",
    "\n",
    "### Example:\n",
    "Input:\n",
    "- Text: \"Hello\"\n",
    "- Target Language: \"vi\"\n",
    "Output:\n",
    "\"Xin chào\"\n",
    "\n",
    "Make sure to evaluate whether the text is already in the target language before translating.\n",
    "\"\"\"\n",
    ")"
   ]
  },
  {
   "cell_type": "code",
   "execution_count": 3,
   "metadata": {},
   "outputs": [],
   "source": [
    "multi_translation_prompt = PromptTemplate(\n",
    "    input_variables=[\"texts\", \"dest_language\"],\n",
    "    template=\"\"\"\n",
    "You are a professional translator. Your task is to translate a list of sentences into the specified target language.\n",
    "\n",
    "### Instructions:\n",
    "1. Analyze each sentence in the list individually.\n",
    "2. Retain sentences that are already in the destination language as is.\n",
    "3. Translate sentences that are not in the destination language.\n",
    "4. **Return output as a plain JSON list without any formatting codes, comments, or explanations.**\n",
    "\n",
    "### Input:\n",
    "- Sentences: {texts}\n",
    "- Target Language: {dest_language}\n",
    "\n",
    "### Output Format:\n",
    "[\"Translated Sentence 1\", \"Translated Sentence 2\", ...]\n",
    "\n",
    "### Example:\n",
    "Input:\n",
    "- Sentences: [\"Hello\", \"I am Peter\", \"Tôi là sinh viên\"]\n",
    "- Target Language: \"vi\"\n",
    "Output:\n",
    "[\"Xin chào\", \"Tôi là Peter\", \"Tôi là sinh viên\"]\n",
    "\"\"\"\n",
    ")"
   ]
  },
  {
   "cell_type": "code",
   "execution_count": 4,
   "metadata": {},
   "outputs": [],
   "source": [
    "# Initialize OpenAI Model (gpt-4o-mini)\n",
    "model = ChatOpenAI(model=\"gpt-4o\", temperature=0.7)\n",
    "# Output File\n",
    "output_file = \"generated_responses.json\""
   ]
  },
  {
   "cell_type": "code",
   "execution_count": 5,
   "metadata": {},
   "outputs": [],
   "source": [
    "# Single Sentence Input Examples\n",
    "single_inputs = [\n",
    "    {\"text\": \"Hello\", \"dest_language\": \"vi\"},\n",
    "    {\"text\": \"Xin chào\", \"dest_language\": \"vi\"},\n",
    "    {\"text\": \"Good morning\", \"dest_language\": \"vi\"},\n",
    "    {\"text\": \"Chào buổi sáng\", \"dest_language\": \"vi\"},\n",
    "    {\"text\": \"Thank you\", \"dest_language\": \"vi\"}\n",
    "]"
   ]
  },
  {
   "cell_type": "code",
   "execution_count": 6,
   "metadata": {},
   "outputs": [],
   "source": [
    "# Multiple Sentences Input Examples\n",
    "multi_inputs = [\n",
    "    {\"texts\": [\"Hello\", \"I am Peter\"], \"dest_language\": \"vi\"},\n",
    "    {\"texts\": [\"Xin chào\", \"Tôi là sinh viên\"], \"dest_language\": \"vi\"},\n",
    "    {\"texts\": [\"Good evening\", \"How are you?\",\n",
    "               \"Tôi đang học tiếng Anh\"], \"dest_language\": \"vi\"},\n",
    "    {\"texts\": [\"What is your name?\", \"Tên tôi là An\"], \"dest_language\": \"vi\"},\n",
    "    {\"texts\": [\"Thank you\", \"Welcome\"], \"dest_language\": \"vi\"}\n",
    "]"
   ]
  },
  {
   "cell_type": "code",
   "execution_count": 7,
   "metadata": {},
   "outputs": [],
   "source": [
    "import re\n",
    "\n",
    "\n",
    "def clean_response(text):\n",
    "    # Step 1: Remove '== AI Message ==', '===' or other special headers\n",
    "    text = re.sub(r\"=+.*?=+\\n\", \"\", text)\n",
    "\n",
    "    # Step 2: Remove bold markers '**'\n",
    "    text = re.sub(r\"\\*\\*\", \"\", text)\n",
    "\n",
    "    # Step 1: Remove LaTeX-style inline math delimiters and escape characters\n",
    "    text = re.sub(r\"\\\\\\[|\\\\\\]\", \"\", text)  # Remove \\[ and \\]\n",
    "    # Remove \\text{} and keep content\n",
    "    text = re.sub(r\"\\\\text\\{(.*?)\\}\", r\"\\1\", text)\n",
    "\n",
    "    # Step 2: Remove unnecessary newlines and excessive whitespace\n",
    "    text = re.sub(\n",
    "        r\"\\n{2,}\", \"\\n\", text\n",
    "    )  # Replace multiple newlines with a single newline\n",
    "    # Replace multiple spaces with a single space\n",
    "    text = re.sub(r\"\\s{2,}\", \" \", text)\n",
    "\n",
    "    # Step 3: Remove unnecessary inline backslashes or escape characters\n",
    "    text = re.sub(r\"\\\\\\\\\", \"\", text)  # Remove unnecessary backslashes\n",
    "\n",
    "    # Step 4: Remove redundant phrases (optional cleanup for clarity)\n",
    "    # Replace LaTeX-style \"times\" with \"x\"\n",
    "    text = re.sub(r\"\\\\times\", \"x\", text)\n",
    "    # Remove bold markers if any\n",
    "    text = re.sub(r\"\\\\textbf\\{(.*?)\\}\", r\"\\1\", text)\n",
    "\n",
    "    # Step 5: Clean up leading/trailing whitespace\n",
    "    text = text.strip()\n",
    "\n",
    "    return text"
   ]
  },
  {
   "cell_type": "code",
   "execution_count": 8,
   "metadata": {},
   "outputs": [],
   "source": [
    "import json\n",
    "from langchain.prompts import PromptTemplate\n",
    "from langchain.chat_models import ChatOpenAI\n",
    "from langchain.schema import HumanMessage\n",
    "\n",
    "\n",
    "def invoke_and_save_translation(queries, model, output_file, single_prompt, multi_prompt):\n",
    "    \"\"\"\n",
    "    Invokes the OpenAI model for translation tasks and saves the results in JSON format.\n",
    "\n",
    "    Args:\n",
    "        queries (list): A list of queries with input text and destination language.\n",
    "        model (ChatOpenAI): Language model instance.\n",
    "        output_file (str): Path to save the output file.\n",
    "        single_prompt (PromptTemplate): Template for single text translation.\n",
    "        multi_prompt (PromptTemplate): Template for multiple texts translation.\n",
    "    \"\"\"\n",
    "    results = []  # List to store responses\n",
    "\n",
    "    for query in queries:\n",
    "        # Check if the input is a single sentence or a list of sentences\n",
    "        if \"text\" in query:  # Single sentence case\n",
    "            prompt = single_prompt.format(\n",
    "                text=query[\"text\"],\n",
    "                dest_language=query[\"dest_language\"]\n",
    "            )\n",
    "        elif \"texts\" in query:  # Multiple sentences case\n",
    "            prompt = multi_prompt.format(\n",
    "                texts=query[\"texts\"],\n",
    "                dest_language=query[\"dest_language\"]\n",
    "            )\n",
    "        else:\n",
    "            raise ValueError(\n",
    "                \"Invalid query format! Must contain 'text' or 'texts'.\")\n",
    "\n",
    "        # Invoke GPT model\n",
    "        response = model.invoke(prompt)\n",
    "        # Append the results\n",
    "        results.append({\n",
    "            \"input\": query,\n",
    "            \"response\":  clean_response(response.pretty_repr())\n",
    "        })\n",
    "        print(f\"Completed: {query}\")\n",
    "\n",
    "    # Save results to JSON file\n",
    "    with open(output_file, \"w\", encoding=\"utf-8\") as f:\n",
    "        json.dump(results, f, indent=4, ensure_ascii=False)\n",
    "    print(f\"Responses saved to {output_file}.\")"
   ]
  },
  {
   "cell_type": "code",
   "execution_count": 9,
   "metadata": {},
   "outputs": [
    {
     "name": "stdout",
     "output_type": "stream",
     "text": [
      "Completed: {'text': 'Hello', 'dest_language': 'vi'}\n",
      "Completed: {'text': 'Xin chào', 'dest_language': 'vi'}\n",
      "Completed: {'text': 'Good morning', 'dest_language': 'vi'}\n",
      "Completed: {'text': 'Chào buổi sáng', 'dest_language': 'vi'}\n",
      "Completed: {'text': 'Thank you', 'dest_language': 'vi'}\n",
      "Responses saved to translations_output.json.\n"
     ]
    }
   ],
   "source": [
    "invoke_and_save_translation(\n",
    "    single_inputs, model, \"translations_output.json\", single_translation_prompt, multi_translation_prompt)"
   ]
  },
  {
   "cell_type": "code",
   "execution_count": 10,
   "metadata": {},
   "outputs": [
    {
     "name": "stdout",
     "output_type": "stream",
     "text": [
      "Completed: {'texts': ['Hello', 'I am Peter'], 'dest_language': 'vi'}\n",
      "Completed: {'texts': ['Xin chào', 'Tôi là sinh viên'], 'dest_language': 'vi'}\n",
      "Completed: {'texts': ['Good evening', 'How are you?', 'Tôi đang học tiếng Anh'], 'dest_language': 'vi'}\n",
      "Completed: {'texts': ['What is your name?', 'Tên tôi là An'], 'dest_language': 'vi'}\n",
      "Completed: {'texts': ['Thank you', 'Welcome'], 'dest_language': 'vi'}\n",
      "Responses saved to translations_output_multi.json.\n"
     ]
    }
   ],
   "source": [
    "invoke_and_save_translation(multi_inputs, model, \"translations_output_multi.json\",\n",
    "                            single_translation_prompt, multi_translation_prompt)"
   ]
  }
 ],
 "metadata": {
  "kernelspec": {
   "display_name": "venv",
   "language": "python",
   "name": "python3"
  },
  "language_info": {
   "codemirror_mode": {
    "name": "ipython",
    "version": 3
   },
   "file_extension": ".py",
   "mimetype": "text/x-python",
   "name": "python",
   "nbconvert_exporter": "python",
   "pygments_lexer": "ipython3",
   "version": "3.11.8"
  }
 },
 "nbformat": 4,
 "nbformat_minor": 2
}
