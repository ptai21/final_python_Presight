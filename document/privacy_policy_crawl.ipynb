{
 "cells": [
  {
   "cell_type": "code",
   "execution_count": 1,
   "metadata": {},
   "outputs": [],
   "source": [
    "import scrapy\n",
    "import json"
   ]
  },
  {
   "cell_type": "code",
   "execution_count": null,
   "metadata": {},
   "outputs": [],
   "source": [
    "class PrivacyPolicySpider(scrapy.Spider):\n",
    "    name = \"privacy_policy\"\n",
    "    start_urls = [\"https://www.presight.io/privacy-policy.html\"]\n",
    "\n",
    "    def parse(self, response):\n",
    "        # Select all elements in the order they appear\n",
    "        elements = response.css('h2, p, li')\n",
    "\n",
    "        # Prepare content\n",
    "        content = []\n",
    "\n",
    "        for element in elements:\n",
    "            # Get the tag name\n",
    "            tag_name = element.xpath('name()').get()\n",
    "\n",
    "            # Process <h2> tags\n",
    "            if tag_name == 'h2':\n",
    "                text = element.css('::text').get().strip()\n",
    "                # Format h2 with uppercase and spacing\n",
    "                content.append(f\"\\n{text.upper()}\\n\")\n",
    "\n",
    "            # Process <p> tags\n",
    "            elif tag_name == 'p':\n",
    "                text = element.css('::text').get().strip()\n",
    "                content.append(text)\n",
    "\n",
    "            # Process <li> tags\n",
    "            elif tag_name == 'li':\n",
    "                text = element.css('::text').get().strip()\n",
    "                content.append(f\"- {text}\")  # Add bullet points for list items\n",
    "\n",
    "        # Join content into a single text block\n",
    "        text_output = \"\\n\".join(content)\n",
    "\n",
    "        # Save to text file\n",
    "        with open(\"privacy_policy.txt\", \"w\", encoding=\"utf-8\") as file:\n",
    "            file.write(text_output)\n",
    "\n",
    "        # Lưu kết quả vào file JSON\n",
    "        with open(\"privacy_policy.json\", \"w\", encoding=\"utf-8\") as json_file:\n",
    "            json.dump({\"content\": text_output}, json_file, ensure_ascii=False, indent=4)\n",
    "\n",
    "        return text_output\n"
   ]
  },
  {
   "cell_type": "code",
   "execution_count": null,
   "metadata": {},
   "outputs": [
    {
     "name": "stderr",
     "output_type": "stream",
     "text": [
      "2025-02-21 12:35:53 [scrapy.utils.log] INFO: Scrapy 2.12.0 started (bot: scrapybot)\n",
      "2025-02-21 12:35:53 [scrapy.utils.log] INFO: Versions: lxml 5.3.0.0, libxml2 2.11.7, cssselect 1.2.0, parsel 1.9.1, w3lib 2.2.1, Twisted 24.11.0, Python 3.11.8 (tags/v3.11.8:db85d51, Feb  6 2024, 22:03:32) [MSC v.1937 64 bit (AMD64)], pyOpenSSL 24.3.0 (OpenSSL 3.4.0 22 Oct 2024), cryptography 44.0.0, Platform Windows-10-10.0.22631-SP0\n",
      "2025-02-21 12:35:53 [scrapy.addons] INFO: Enabled addons:\n",
      "[]\n",
      "2025-02-21 12:35:54 [scrapy.extensions.telnet] INFO: Telnet Password: 4075bebd9f2e5cf4\n",
      "2025-02-21 12:35:54 [scrapy.middleware] INFO: Enabled extensions:\n",
      "['scrapy.extensions.corestats.CoreStats',\n",
      " 'scrapy.extensions.telnet.TelnetConsole',\n",
      " 'scrapy.extensions.logstats.LogStats']\n",
      "2025-02-21 12:35:54 [scrapy.crawler] INFO: Overridden settings:\n",
      "{'LOG_LEVEL': 'INFO'}\n",
      "2025-02-21 12:35:54 [scrapy.middleware] INFO: Enabled downloader middlewares:\n",
      "['scrapy.downloadermiddlewares.offsite.OffsiteMiddleware',\n",
      " 'scrapy.downloadermiddlewares.httpauth.HttpAuthMiddleware',\n",
      " 'scrapy.downloadermiddlewares.downloadtimeout.DownloadTimeoutMiddleware',\n",
      " 'scrapy.downloadermiddlewares.defaultheaders.DefaultHeadersMiddleware',\n",
      " 'scrapy.downloadermiddlewares.useragent.UserAgentMiddleware',\n",
      " 'scrapy.downloadermiddlewares.retry.RetryMiddleware',\n",
      " 'scrapy.downloadermiddlewares.redirect.MetaRefreshMiddleware',\n",
      " 'scrapy.downloadermiddlewares.httpcompression.HttpCompressionMiddleware',\n",
      " 'scrapy.downloadermiddlewares.redirect.RedirectMiddleware',\n",
      " 'scrapy.downloadermiddlewares.cookies.CookiesMiddleware',\n",
      " 'scrapy.downloadermiddlewares.httpproxy.HttpProxyMiddleware',\n",
      " 'scrapy.downloadermiddlewares.stats.DownloaderStats']\n",
      "2025-02-21 12:35:54 [scrapy.middleware] INFO: Enabled spider middlewares:\n",
      "['scrapy.spidermiddlewares.httperror.HttpErrorMiddleware',\n",
      " 'scrapy.spidermiddlewares.referer.RefererMiddleware',\n",
      " 'scrapy.spidermiddlewares.urllength.UrlLengthMiddleware',\n",
      " 'scrapy.spidermiddlewares.depth.DepthMiddleware']\n",
      "2025-02-21 12:35:54 [scrapy.middleware] INFO: Enabled item pipelines:\n",
      "[]\n",
      "2025-02-21 12:35:54 [scrapy.core.engine] INFO: Spider opened\n",
      "2025-02-21 12:35:54 [scrapy.extensions.logstats] INFO: Crawled 0 pages (at 0 pages/min), scraped 0 items (at 0 items/min)\n",
      "2025-02-21 12:35:54 [scrapy.extensions.telnet] INFO: Telnet console listening on 127.0.0.1:6023\n",
      "2025-02-21 12:35:55 [scrapy.core.scraper] ERROR: Spider must return request, item, or None, got 'str' in <GET https://www.presight.io/privacy-policy.html>\n",
      "2025-02-21 12:35:55 [scrapy.core.engine] INFO: Closing spider (finished)\n",
      "2025-02-21 12:35:55 [scrapy.statscollectors] INFO: Dumping Scrapy stats:\n",
      "{'downloader/request_bytes': 235,\n",
      " 'downloader/request_count': 1,\n",
      " 'downloader/request_method_count/GET': 1,\n",
      " 'downloader/response_bytes': 15479,\n",
      " 'downloader/response_count': 1,\n",
      " 'downloader/response_status_count/200': 1,\n",
      " 'elapsed_time_seconds': 1.376466,\n",
      " 'finish_reason': 'finished',\n",
      " 'finish_time': datetime.datetime(2025, 2, 21, 5, 35, 55, 953631, tzinfo=datetime.timezone.utc),\n",
      " 'httpcompression/response_bytes': 85860,\n",
      " 'httpcompression/response_count': 1,\n",
      " 'items_per_minute': None,\n",
      " 'log_count/ERROR': 1,\n",
      " 'log_count/INFO': 10,\n",
      " 'response_received_count': 1,\n",
      " 'responses_per_minute': None,\n",
      " 'scheduler/dequeued': 1,\n",
      " 'scheduler/dequeued/memory': 1,\n",
      " 'scheduler/enqueued': 1,\n",
      " 'scheduler/enqueued/memory': 1,\n",
      " 'start_time': datetime.datetime(2025, 2, 21, 5, 35, 54, 577165, tzinfo=datetime.timezone.utc)}\n",
      "2025-02-21 12:35:55 [scrapy.core.engine] INFO: Spider closed (finished)\n"
     ]
    }
   ],
   "source": [
    "from scrapy.crawler import CrawlerProcess\n",
    "process = CrawlerProcess(settings={\n",
    "    \"LOG_LEVEL\": \"INFO\",  # Giảm log để dễ nhìn\n",
    "})\n",
    "process.crawl(PrivacyPolicySpider)\n",
    "process.start()  # Chạy Scrapy\n"
   ]
  },
  {
   "cell_type": "code",
   "execution_count": null,
   "metadata": {},
   "outputs": [
    {
     "data": {
      "text/plain": [
       "'By Role\\nBy Team\\n\\nPRIVACY POLICY\\n\\n\\nLAST UPDATED 15 SEP 2023\\n\\nAt Presight, we are committed to protecting the privacy of our customers and visitors to our website. This Privacy Policy explains how we collect, use, and disclose information about our customers and visitors.\\n\\nINFORMATION COLLECTION AND USE\\n\\nWe collect several different types of information for various purposes to provide and improve our Service to you.\\n\\nTYPES OF DATA COLLECTED\\n\\nWhile using our Service, we may ask you to provide us with certain personally identifiable information that can be used to contact or identify you (\"Personal Data\"). Personally identifiable information may include, but is not limited to:\\n- Email address\\n- First name and last name\\n- Phone number\\n- Address, State, Province, ZIP/Postal code, City\\n- Cookies and Usage Data\\nWe may also collect information that your browser sends whenever you visit our Service or when you access the Service by or through a mobile device (\"Usage Data\"). This Usage Data may include information such as your computer\\'s Internet Protocol address (e.g. IP address), browser type, browser version, the pages of our Service that you visit, the time and date of your visit, the time spent on those pages, unique device identifiers, and other diagnostic data.\\n\\nUSE OF DATA\\n\\nPresight uses the collected data for various purposes:\\n- To provide and maintain our Service\\n- To notify you about changes to our Service\\n- To allow you to participate in interactive features of our Service when you choose to do so\\n- To provide customer support\\n- To gather analysis or valuable information so that we can improve our Service\\n- To monitor the usage of our Service\\n- To detect, prevent and address technical issues\\n\\nCONSENT\\n\\nAs personal information is collected, you will be asked to confirm that your information is correct prior to submitting it to Presight.\\n\\nACCESS TO PERSONAL INFORMATION\\n\\n\\nACCESSING YOUR PERSONAL INFORMATION\\n\\nYou have the right to access all of your personal information that we hold. Through the application, you can correct, amend, or append your personal information by logging into the application and navigating to your settings and profile.\\n\\nAUTOMATED EDIT CHECKS\\n\\nPresight employs automated edit checks to ensure that data entry fields are completed properly when collecting personal information. These edit checks help maintain data integrity and accuracy. You are encouraged to provide complete and valid information to ensure the smooth processing of their personal data.\\n\\nDISCLOSURE OF INFORMATION\\n\\nWe may disclose your application data to third-party service providers who help us provide our services such as Datadog, AWS, Google Cloud and Google Workspace. We may also disclose your information in response to a legal request, such as a subpoena or court order, or to protect our rights or the rights of others.\\n\\nSHARING OF PERSONAL DATA\\n\\nYour personal data will not be subject to sharing, transfer, rental or exchange for the benefit of third parties, including AI models.\\n\\nGOOGLE USER DATA AND GOOGLE WORKSPACE APIS\\n\\nIn all cases when users authenticate the platform to Google Workspace, the following applies:\\n- We do not retain or use Google User Data to develop, improve, or train generalized/non-personalized AI and/or ML models.\\n- We do not use Google Workspace APIs to develop, improve, or train generalized/non-personalized AI and/or ML models.\\n- We do not transfer Google User Data to third-party AI tools for the purpose of developing, improving, or training generalized or non-personalized AI and/or ML models.\\n\\nDATA SECURITY\\n\\n- All data is encrypted both in transit and at rest, using industry-standard encryption methods.\\n- We regularly perform security audits and vulnerability assessments to ensure the safety of our platform and the data stored within it.\\n- Our employees are trained on best practices for data security, and access to customer data is restricted on a need-to-know basis.\\n\\nDATA RETENTION & DISPOSAL\\n\\nCustomer data is retained for as long as the account is in active status. Data enters an “expired” state when the account is voluntarily closed. Expired account data will be retained for 60 days. After this period, the account and related data will be removed.\\n\\nQUALITY, INCLUDING DATA SUBJECTS\\' RESPONSIBILITIES FOR QUALITY\\n\\n- We are committed to maintaining the quality and accuracy of the personal information we collect and process.\\n- We rely on data subjects to provide accurate and up-to-date information.\\n- Data subjects have the responsibility to inform us of any changes or inaccuracies in their personal data.\\n- If you believe that any information we hold about you is inaccurate, incomplete, or outdated, please contact us promptly to rectify the information.\\n\\nMONITORING AND ENFORCEMENT\\n\\n- We regularly monitor its data processing activities to ensure compliance with this privacy policy and applicable data protection laws.\\n- In the event of a data breach or any unauthorized access to your personal information, we will notify you and the appropriate authorities as required by law.\\n- We committed to cooperating with data protection authorities and complying with their advice and decisions regarding data protection and privacy matters.\\n\\nCOOKIES\\n\\nWe use cookies to enhance your experience on our website. You can control the use of cookies through your web browser settings.\\n\\nTHIRD-PARTY WEBSITES\\n\\nOur website may contain links to third-party websites. We are not responsible for the privacy practices or content of those websites.\\n\\nCHANGES TO PRIVACY POLICY\\n\\nWe may update this Privacy Policy from time to time. The updated Privacy Policy will be posted on our website.\\n\\nCONTACT US\\n\\nIf you have any questions about this Privacy Policy, please contact us through the customer portal or by email at\\n\\nPURPOSEFUL USE ONLY\\n\\nWe commit to only use personal information for the purposes identified in the entity\\'s privacy policy.\\nPresight.io 2022 All Rights Reserved\\nHo Chi Minh City, Vietnam\\nSingapore\\nSeattle, WA, USA'"
      ]
     },
     "execution_count": 4,
     "metadata": {},
     "output_type": "execute_result"
    }
   ],
   "source": [
    "with open(\"privacy_policy.json\", \"r\", encoding=\"utf-8\") as json_file:\n",
    "    data = json.load(json_file)\n",
    "# Hiển thị nội dung đã thu thập được\n",
    "data[\"content\"]"
   ]
  }
 ],
 "metadata": {
  "kernelspec": {
   "display_name": "venv",
   "language": "python",
   "name": "python3"
  },
  "language_info": {
   "codemirror_mode": {
    "name": "ipython",
    "version": 3
   },
   "file_extension": ".py",
   "mimetype": "text/x-python",
   "name": "python",
   "nbconvert_exporter": "python",
   "pygments_lexer": "ipython3",
   "version": "3.11.8"
  }
 },
 "nbformat": 4,
 "nbformat_minor": 2
}
